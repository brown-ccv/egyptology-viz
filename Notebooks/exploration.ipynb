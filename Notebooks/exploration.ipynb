{
 "cells": [
  {
   "cell_type": "code",
   "execution_count": null,
   "metadata": {},
   "outputs": [],
   "source": [
    "import pandas as pd\n",
    "import numpy as np\n",
    "import seaborn as sns\n",
    "import matplotlib.pyplot as plt"
   ]
  },
  {
   "cell_type": "code",
   "execution_count": null,
   "metadata": {},
   "outputs": [],
   "source": [
    "df = pd.DataFrame(pd.read_csv(\"../assets/normalized_pyramid_data.csv\"))"
   ]
  },
  {
   "cell_type": "markdown",
   "metadata": {},
   "source": [
    "## Camilo's sample queries (6/26)"
   ]
  },
  {
   "cell_type": "code",
   "execution_count": null,
   "metadata": {},
   "outputs": [],
   "source": [
    "'''\n",
    "df[df[\"dynasty\"] == 3][df[\"exterior_material\"] == \"Limestone\"][df[\"start_of_reign\"] <= 2700][df[\"end_of_reign\"] >= 2550]\n",
    "\n",
    "df[df[\"superstructure_type\"] == \"Pyramid\"][\"width\"]\n",
    "\n",
    "len(df[df[\"gender\"] == \"King\"][df[\"period\"] == \"Old Kingdom\"])\n",
    "\n",
    "df[df[\"dynasty\"] >= 5][df[\"dynasty\"] <= 7][df[\"state_of_completion\"] == \"Completed\"]\n",
    "'''"
   ]
  },
  {
   "cell_type": "code",
   "execution_count": null,
   "metadata": {},
   "outputs": [],
   "source": [
    "kings = df[df['gender'] == 'King']"
   ]
  },
  {
   "cell_type": "code",
   "execution_count": null,
   "metadata": {},
   "outputs": [],
   "source": [
    "# Not sure of the point of this; Brought over from visualizations\n",
    "\n",
    "start_reign = df[\"start_of_reign\"].notnull()\n",
    "end_reign = df[\"end_of_reign\"].notnull()\n",
    "reign_df = df[start_reign & end_reign]"
   ]
  },
  {
   "cell_type": "code",
   "execution_count": null,
   "metadata": {},
   "outputs": [],
   "source": [
    "# Find the number of queen pyramids at each complex\n",
    "\n",
    "queens = df[df['gender'] == 'Queen']\n",
    "queens[['gender', 'pyramid_complex']].groupby('pyramid_complex').count()"
   ]
  },
  {
   "cell_type": "code",
   "execution_count": null,
   "metadata": {},
   "outputs": [],
   "source": [
    "# Compare the number of king and queen pyramids at each confirmed complex\n",
    "\n",
    "key = ['unknown', 'pyramid?']\n",
    "complexes = df[~df['pyramid_complex'].isin(key)]\n",
    "\n",
    "kings_and_queens = complexes.groupby('pyramid_complex')['gender'].value_counts().unstack()\n",
    "kings_and_queens"
   ]
  },
  {
   "cell_type": "code",
   "execution_count": null,
   "metadata": {},
   "outputs": [],
   "source": [
    "plt = kings_and_queens.plot.bar(xlabel='Pyramid Complex', ylabel='Number of Confirmed Pyramids')\n",
    "plt.legend(title='Royal Status')"
   ]
  },
  {
   "cell_type": "code",
   "execution_count": null,
   "metadata": {},
   "outputs": [],
   "source": [
    "# Count all known casing types\n",
    "\n",
    "df[df['casing'] != 'Unknown']['casing'].value_counts()"
   ]
  },
  {
   "cell_type": "code",
   "execution_count": null,
   "metadata": {},
   "outputs": [],
   "source": [
    "# See the types of casing during each dyansty\n",
    "\n",
    "dynasty_casing = df.groupby('dynasty')['casing'].value_counts().unstack()\n",
    "dynasty_casing"
   ]
  },
  {
   "cell_type": "code",
   "execution_count": null,
   "metadata": {},
   "outputs": [],
   "source": [
    "# See the distribution of pyramids between genders among the dynasties\n",
    "\n",
    "dynasty_pyramids = df.groupby('dynasty')['gender'].value_counts().unstack()\n",
    "dynasty_pyramids"
   ]
  },
  {
   "cell_type": "code",
   "execution_count": null,
   "metadata": {},
   "outputs": [],
   "source": [
    "plt = dynasty_pyramids.plot.bar(xlabel='Dyansty', ylabel='Number of Pyramids (Including Speculations)')\n",
    "plt.legend(title='Royal Status')"
   ]
  },
  {
   "cell_type": "code",
   "execution_count": null,
   "metadata": {},
   "outputs": [],
   "source": [
    "queen_data = queens[['royal_mother_title', 'likely_wife', 'wife_title', 'vizier', 'regent']]\n",
    "queen_data"
   ]
  },
  {
   "cell_type": "code",
   "execution_count": null,
   "metadata": {},
   "outputs": [],
   "source": [
    "queen_data.value_counts()"
   ]
  },
  {
   "cell_type": "code",
   "execution_count": null,
   "metadata": {},
   "outputs": [],
   "source": []
  }
 ],
 "metadata": {
  "kernelspec": {
   "display_name": "Python 3",
   "language": "python",
   "name": "python3"
  },
  "language_info": {
   "codemirror_mode": {
    "name": "ipython",
    "version": 3
   },
   "file_extension": ".py",
   "mimetype": "text/x-python",
   "name": "python",
   "nbconvert_exporter": "python",
   "pygments_lexer": "ipython3"
  }
 },
 "nbformat": 4,
 "nbformat_minor": 2
}
