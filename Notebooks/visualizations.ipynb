{
 "cells": [
  {
   "cell_type": "code",
   "execution_count": null,
   "metadata": {},
   "outputs": [],
   "source": [
    "# Import modules\n",
    "\n",
    "import pandas as pd\n",
    "import matplotlib.pyplot as plt\n",
    "import seaborn as sns"
   ]
  },
  {
   "cell_type": "code",
   "execution_count": null,
   "metadata": {},
   "outputs": [],
   "source": [
    "# Import the dataset\n",
    "\n",
    "df = pd.DataFrame(pd.read_json(\"../assets/normalized_pyramid_data.json\"))"
   ]
  },
  {
   "cell_type": "code",
   "execution_count": null,
   "metadata": {},
   "outputs": [],
   "source": [
    "# Get the rows that contain the reigns of the individual rulers\n",
    "\n",
    "start_reign = df[\"start_of_reign\"].notnull()\n",
    "end_reign = df[\"end_of_reign\"].notnull()\n",
    "reign_df = df[start_reign & end_reign]"
   ]
  },
  {
   "cell_type": "code",
   "execution_count": null,
   "metadata": {},
   "outputs": [],
   "source": [
    "# Plot the number of monuments that were built during the reign of each ruler in a bar graph\n",
    "\n",
    "monuments = df['ruler'].value_counts()\n",
    "rulers = df['ruler'].value_counts().keys()\n",
    "\n",
    "plt.title(\"Monuments Completed Under Ruler\")\n",
    "plt.xlabel(\"Ruler\")\n",
    "plt.ylabel(\"Number of Monuments\")\n",
    "plt.bar(rulers, monuments)\n",
    "plt.xticks(rotation=90)\n",
    "plt.show()"
   ]
  },
  {
   "cell_type": "code",
   "execution_count": null,
   "metadata": {},
   "outputs": [],
   "source": [
    "# Plot the average width of the monuments in each Dynasty\n",
    "# Messy elements are not considered here for the sake of simplicity in this inital exploration,\n",
    "# they would need to be properly handled in an actual analysis\n",
    "\n",
    "dynasty_df = df[['dynasty', 'width']]\n",
    "dynasty_df.dropna(inplace=True)\n",
    "invalid_widths = dynasty_df['width'].str.contains(' ', na=False)\n",
    "dynasty_df = dynasty_df[~invalid_widths]\n",
    "dynasty_df['width'] = dynasty_df['width'].astype('float64')\n",
    "dynasty_group = dynasty_df.groupby('dynasty').mean().plot.bar()"
   ]
  },
  {
   "cell_type": "code",
   "execution_count": null,
   "metadata": {},
   "outputs": [],
   "source": [
    "# Same as above but reveals more information (ie better)\n",
    "sns.color_palette(palette='colorblind')\n",
    "dyn_pal = {'3': 'plum', '4': 'g', '5': 'orange', '6': 'b', '7': 'r', '8': 'skyblue', 'FIP or 8': 'pink'}\n",
    "plot = sns.boxplot(x='dynasty', y='width', data=dynasty_df, palette=dyn_pal)\n",
    "plot.set_title(\"Average Width of Pyramids During Each Dynasty\")\n",
    "plot.set_xlabel(\"Dynasty\")\n",
    "plot.set_ylabel(\"Width\")"
   ]
  },
  {
   "cell_type": "code",
   "execution_count": null,
   "metadata": {},
   "outputs": [],
   "source": [
    "# Testing a timeline plot\n",
    "#plt.style.use('ggplot')\n",
    "from matplotlib.pyplot import cm\n",
    "import numpy as np\n",
    "\n",
    "tl = df.sort_values(by='start_of_reign', ascending=False)\n",
    "\n",
    "tl = tl[['ruler', 'start_of_reign', 'end_of_reign', 'length_of_reign']].dropna()\n",
    "rulers = tl['ruler']\n",
    "starts = -tl['start_of_reign']\n",
    "ends = -tl['end_of_reign']\n",
    "length = tl['length_of_reign']\n",
    "\n",
    "# Figure\n",
    "plt.figure(figsize=(12, 8))\n",
    "color = cm.rainbow(np.linspace(0, 1, len(starts)))\n",
    "plt.barh(y=0, \n",
    "         width=(ends - starts), \n",
    "         height=0.3, \n",
    "         left=starts, \n",
    "         color=color, \n",
    "         edgecolor='black')\n",
    "# Tick settings\n",
    "plt.tick_params(left=False, labelleft=False)\n",
    "plt.gca().xaxis.set_minor_locator(plt.MultipleLocator(10))\n",
    "# Labeling\n",
    "plt.xlabel('Year (BCE)')\n",
    "plt.ylabel('Ruler')\n",
    "plt.title('Lengths of Reign by Ruler')\n",
    "# Vertical figure label lines\n",
    "levels = np.tile([-2, 2, -1, 1], \n",
    "                 int(np.ceil(len(rulers) / 4)))[:len(rulers)]\n",
    "plt.vlines(starts + length/2, 0, levels/2, color='black')\n",
    "# Figure label text\n",
    "for i in range(len(starts)):\n",
    "    plt.text(starts.iloc[i] + length.iloc[i]/2, \n",
    "             (levels[i]*1.05)/2, \n",
    "             rulers.iloc[i], \n",
    "             ha='center', \n",
    "             fontsize = '7') "
   ]
  },
  {
   "cell_type": "markdown",
   "metadata": {},
   "source": [
    "### Thoughts on above\n",
    "\n",
    "- It might be worth considering if another graph (line graph?) could be overlayed atop something more or less like this. For example, this + a line graph of the height or mass of the pyramids over time.\n",
    "\n",
    "### Issues\n",
    "\n",
    "- I can't figure out how to reduce the length of the vertical label lines without ruining the proportion of the figure, \n",
    "and vice versa.\n",
    "\n",
    "- Rainbow colors probably aren't the best for visual clarity. Each segment should have more contrast with respect to those on either side."
   ]
  },
  {
   "cell_type": "markdown",
   "metadata": {},
   "source": []
  }
 ],
 "metadata": {
  "kernelspec": {
   "display_name": "Python 3",
   "language": "python",
   "name": "python3"
  },
  "language_info": {
   "codemirror_mode": {
    "name": "ipython",
    "version": 3
   },
   "file_extension": ".py",
   "mimetype": "text/x-python",
   "name": "python",
   "nbconvert_exporter": "python",
   "pygments_lexer": "ipython3"
  }
 },
 "nbformat": 4,
 "nbformat_minor": 2
}
