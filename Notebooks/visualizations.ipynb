{
 "cells": [
  {
   "cell_type": "code",
   "execution_count": null,
   "metadata": {},
   "outputs": [],
   "source": [
    "# Import modules\n",
    "\n",
    "import pandas as pd\n",
    "import matplotlib.pyplot as plt\n",
    "import seaborn as sns"
   ]
  },
  {
   "cell_type": "code",
   "execution_count": null,
   "metadata": {},
   "outputs": [],
   "source": [
    "# Import the dataset\n",
    "\n",
    "df = pd.DataFrame(pd.read_json(\"../assets/normalized_pyramid_data.json\"))"
   ]
  },
  {
   "cell_type": "code",
   "execution_count": null,
   "metadata": {},
   "outputs": [],
   "source": [
    "# Get the rows that contain the reigns of the individual rulers\n",
    "\n",
    "start_reign = df[\"start_of_reign\"].notnull()\n",
    "end_reign = df[\"end_of_reign\"].notnull()\n",
    "reign_df = df[start_reign & end_reign]"
   ]
  },
  {
   "cell_type": "code",
   "execution_count": null,
   "metadata": {},
   "outputs": [],
   "source": [
    "# Plot the number of monuments that were built during the reign of each ruler in a bar graph\n",
    "\n",
    "monuments = df['ruler'].value_counts()\n",
    "rulers = df['ruler'].value_counts().keys()\n",
    "\n",
    "plt.title(\"Monuments Completed Under Ruler\")\n",
    "plt.xlabel(\"Ruler\")\n",
    "plt.ylabel(\"Number of Monuments\")\n",
    "plt.bar(rulers, monuments)\n",
    "plt.xticks(rotation=90)\n",
    "plt.show()"
   ]
  },
  {
   "cell_type": "code",
   "execution_count": null,
   "metadata": {},
   "outputs": [],
   "source": [
    "# Plot the average width of the monuments in each Dynasty\n",
    "# Messy elements are not considered here for the sake of simplicity in this inital exploration,\n",
    "# they would need to be properly handled in an actual analysis\n",
    "\n",
    "dynasty_df = df[['dynasty', 'width']]\n",
    "dynasty_df.dropna(inplace=True)\n",
    "invalid_widths = dynasty_df['width'].str.contains(' ', na=False)\n",
    "dynasty_df = dynasty_df[~invalid_widths]\n",
    "dynasty_df['width'] = dynasty_df['width'].astype('float64')\n",
    "dynasty_group = dynasty_df.groupby('dynasty').mean().plot.bar()"
   ]
  },
  {
   "cell_type": "code",
   "execution_count": null,
   "metadata": {},
   "outputs": [],
   "source": [
    "# Same as above but reveals more information (ie better)\n",
    "sns.color_palette(palette='colorblind')\n",
    "dyn_pal = {'3': 'plum', '4': 'g', '5': 'orange', '6': 'b', '7': 'r', '8': 'skyblue', 'FIP or 8': 'pink'}\n",
    "plt = sns.boxplot(x='dynasty', y='width', data=dynasty_df, palette=dyn_pal)\n",
    "plt.set_title(\"Average Width of Pyramids During Each Dynasty\")\n",
    "plt.set_xlabel(\"Dynasty\")\n",
    "plt.set_ylabel(\"Width\")"
   ]
  },
  {
   "cell_type": "code",
   "execution_count": null,
   "metadata": {},
   "outputs": [],
   "source": []
  },
  {
   "cell_type": "code",
   "execution_count": null,
   "metadata": {},
   "outputs": [],
   "source": []
  }
 ],
 "metadata": {
  "language_info": {
   "name": "python"
  }
 },
 "nbformat": 4,
 "nbformat_minor": 2
}
