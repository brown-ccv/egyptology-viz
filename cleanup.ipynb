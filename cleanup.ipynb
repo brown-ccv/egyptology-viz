{
 "cells": [
  {
   "cell_type": "markdown",
   "id": "7b0af857-b8ed-445b-8e9c-3269e84dc1d7",
   "metadata": {},
   "source": [
    "# Egyptology Dataset Cleanup Notebook"
   ]
  },
  {
   "cell_type": "markdown",
   "id": "1df9c4e4-49fb-44f2-9efd-4d8f5e122431",
   "metadata": {},
   "source": [
    "## Prerequisites"
   ]
  },
  {
   "cell_type": "code",
   "execution_count": 2,
   "id": "995df476-7ce2-4204-924c-2e3ade5a2548",
   "metadata": {},
   "outputs": [],
   "source": [
    "# Import modules\n",
    "\n",
    "import pandas as pd"
   ]
  },
  {
   "cell_type": "code",
   "execution_count": 4,
   "id": "0b45f76a-628d-48c3-ac0a-82ed5c839d0f",
   "metadata": {},
   "outputs": [],
   "source": [
    "# Load the dataset and take a look at the head\n",
    "\n",
    "df = pd.DataFrame(pd.read_excel(\"assets/Condensed Pyramid Data copy (6-13-2024).xlsx\"))\n",
    "#df = pd.read_json(\"incomplete_pyramid_data.json\")"
   ]
  },
  {
   "cell_type": "code",
   "execution_count": 5,
   "id": "6c741ffc-8f0a-4bdb-a2b4-5ba528daf4c4",
   "metadata": {},
   "outputs": [
    {
     "data": {
      "text/html": [
       "<div>\n",
       "<style scoped>\n",
       "    .dataframe tbody tr th:only-of-type {\n",
       "        vertical-align: middle;\n",
       "    }\n",
       "\n",
       "    .dataframe tbody tr th {\n",
       "        vertical-align: top;\n",
       "    }\n",
       "\n",
       "    .dataframe thead th {\n",
       "        text-align: right;\n",
       "    }\n",
       "</style>\n",
       "<table border=\"1\" class=\"dataframe\">\n",
       "  <thead>\n",
       "    <tr style=\"text-align: right;\">\n",
       "      <th></th>\n",
       "      <th>Ruler</th>\n",
       "      <th>Gender</th>\n",
       "      <th>Start of Reign</th>\n",
       "      <th>End of Reign</th>\n",
       "      <th>Length of Reign (Years)</th>\n",
       "      <th>Period</th>\n",
       "      <th>Dynasty</th>\n",
       "      <th>Title</th>\n",
       "      <th>Pyramid Texts</th>\n",
       "      <th>Site/Location</th>\n",
       "      <th>Orientation</th>\n",
       "      <th>Exterior Material</th>\n",
       "      <th>State of Completion</th>\n",
       "      <th>Superstructure Type</th>\n",
       "      <th>Height (m)</th>\n",
       "      <th>Length (m)</th>\n",
       "      <th>Width (m)</th>\n",
       "      <th>Slope (degrees)</th>\n",
       "      <th>Enclosure Wall Dimensions (m)</th>\n",
       "      <th>Notes</th>\n",
       "    </tr>\n",
       "  </thead>\n",
       "  <tbody>\n",
       "    <tr>\n",
       "      <th>0</th>\n",
       "      <td>Djoser</td>\n",
       "      <td>King</td>\n",
       "      <td>2630.0</td>\n",
       "      <td>2611.0</td>\n",
       "      <td>19</td>\n",
       "      <td>Old Kingdom</td>\n",
       "      <td>3</td>\n",
       "      <td>Step Pyramid of Djoser</td>\n",
       "      <td>NaN</td>\n",
       "      <td>Saqqara</td>\n",
       "      <td>N-S</td>\n",
       "      <td>Limestone</td>\n",
       "      <td>NaN</td>\n",
       "      <td>Pyramid</td>\n",
       "      <td>60</td>\n",
       "      <td>121</td>\n",
       "      <td>109</td>\n",
       "      <td>NaN</td>\n",
       "      <td>NaN</td>\n",
       "      <td>seems to have enclosure walls and temple accor...</td>\n",
       "    </tr>\n",
       "    <tr>\n",
       "      <th>1</th>\n",
       "      <td>Sekhemhet</td>\n",
       "      <td>King</td>\n",
       "      <td>2611.0</td>\n",
       "      <td>2603.0</td>\n",
       "      <td>8</td>\n",
       "      <td>Old Kingdom</td>\n",
       "      <td>3</td>\n",
       "      <td>Enclosure and Unfinished Step Pyramid of Sekhe...</td>\n",
       "      <td>NaN</td>\n",
       "      <td>Saqqara</td>\n",
       "      <td>N-S</td>\n",
       "      <td>Stone</td>\n",
       "      <td>Unfinished</td>\n",
       "      <td>Pyramid, Enclosure</td>\n",
       "      <td>7</td>\n",
       "      <td>120</td>\n",
       "      <td>120</td>\n",
       "      <td>NaN</td>\n",
       "      <td>536 N/S; 194 E/W, walls 5m tall</td>\n",
       "      <td>unfinished, no limestone casing, \"probably iny...</td>\n",
       "    </tr>\n",
       "    <tr>\n",
       "      <th>2</th>\n",
       "      <td>Nebka?</td>\n",
       "      <td>King</td>\n",
       "      <td>2649.0</td>\n",
       "      <td>2630.0</td>\n",
       "      <td>19</td>\n",
       "      <td>Old Kingdom</td>\n",
       "      <td>3</td>\n",
       "      <td>Pyramid of Nebka? Unfinished Pyramid</td>\n",
       "      <td>NaN</td>\n",
       "      <td>Zawiyet el-Aryan</td>\n",
       "      <td>E-W</td>\n",
       "      <td>Stone</td>\n",
       "      <td>Unfinished</td>\n",
       "      <td>Pyramid, Enclosure</td>\n",
       "      <td>unknown</td>\n",
       "      <td>200</td>\n",
       "      <td>200</td>\n",
       "      <td>NaN</td>\n",
       "      <td>enclosure wall oriented N-S</td>\n",
       "      <td>debate over whether this is Pyramid of Nebka</td>\n",
       "    </tr>\n",
       "    <tr>\n",
       "      <th>3</th>\n",
       "      <td>Khaba</td>\n",
       "      <td>King</td>\n",
       "      <td>2603.0</td>\n",
       "      <td>2599.0</td>\n",
       "      <td>4</td>\n",
       "      <td>Old Kingdom</td>\n",
       "      <td>3</td>\n",
       "      <td>Pyramid of Khaba</td>\n",
       "      <td>NaN</td>\n",
       "      <td>Zawiyet el-Aryan</td>\n",
       "      <td>E-W</td>\n",
       "      <td>Stone</td>\n",
       "      <td>Unfinished</td>\n",
       "      <td>Pyramid</td>\n",
       "      <td>20 (unfinished)</td>\n",
       "      <td>84</td>\n",
       "      <td>84</td>\n",
       "      <td>NaN</td>\n",
       "      <td>NaN</td>\n",
       "      <td>began as step pyramid</td>\n",
       "    </tr>\n",
       "    <tr>\n",
       "      <th>4</th>\n",
       "      <td>Huni? Sneferu?</td>\n",
       "      <td>King</td>\n",
       "      <td>2599.0</td>\n",
       "      <td>2575.0</td>\n",
       "      <td>24</td>\n",
       "      <td>Old Kingdom</td>\n",
       "      <td>4</td>\n",
       "      <td>Meidum Pyramid</td>\n",
       "      <td>NaN</td>\n",
       "      <td>Meidum</td>\n",
       "      <td>E-W</td>\n",
       "      <td>Mudbrick</td>\n",
       "      <td>Unfinished</td>\n",
       "      <td>Pyramid</td>\n",
       "      <td>92</td>\n",
       "      <td>144</td>\n",
       "      <td>144</td>\n",
       "      <td>51</td>\n",
       "      <td>NaN</td>\n",
       "      <td>base  = 144 according to Lehner</td>\n",
       "    </tr>\n",
       "  </tbody>\n",
       "</table>\n",
       "</div>"
      ],
      "text/plain": [
       "            Ruler Gender  Start of Reign  End of Reign  \\\n",
       "0          Djoser   King          2630.0        2611.0   \n",
       "1       Sekhemhet  King           2611.0        2603.0   \n",
       "2          Nebka?   King          2649.0        2630.0   \n",
       "3           Khaba   King          2603.0        2599.0   \n",
       "4  Huni? Sneferu?   King          2599.0        2575.0   \n",
       "\n",
       "  Length of Reign (Years)       Period Dynasty  \\\n",
       "0                      19  Old Kingdom       3   \n",
       "1                       8  Old Kingdom       3   \n",
       "2                      19  Old Kingdom       3   \n",
       "3                       4  Old Kingdom       3   \n",
       "4                      24  Old Kingdom       4   \n",
       "\n",
       "                                               Title Pyramid Texts  \\\n",
       "0                            Step Pyramid of Djoser            NaN   \n",
       "1  Enclosure and Unfinished Step Pyramid of Sekhe...           NaN   \n",
       "2               Pyramid of Nebka? Unfinished Pyramid           NaN   \n",
       "3                                  Pyramid of Khaba            NaN   \n",
       "4                                     Meidum Pyramid           NaN   \n",
       "\n",
       "      Site/Location Orientation Exterior Material State of Completion  \\\n",
       "0           Saqqara         N-S         Limestone                 NaN   \n",
       "1           Saqqara         N-S             Stone          Unfinished   \n",
       "2  Zawiyet el-Aryan         E-W             Stone          Unfinished   \n",
       "3  Zawiyet el-Aryan         E-W             Stone          Unfinished   \n",
       "4            Meidum         E-W          Mudbrick          Unfinished   \n",
       "\n",
       "   Superstructure Type        Height (m) Length (m) Width (m)   \\\n",
       "0              Pyramid                60        121        109   \n",
       "1  Pyramid, Enclosure                  7        120        120   \n",
       "2  Pyramid, Enclosure            unknown        200        200   \n",
       "3              Pyramid  20 (unfinished)          84         84   \n",
       "4              Pyramid                92        144        144   \n",
       "\n",
       "  Slope (degrees)    Enclosure Wall Dimensions (m)  \\\n",
       "0             NaN                              NaN   \n",
       "1             NaN  536 N/S; 194 E/W, walls 5m tall   \n",
       "2             NaN      enclosure wall oriented N-S   \n",
       "3             NaN                              NaN   \n",
       "4              51                              NaN   \n",
       "\n",
       "                                               Notes  \n",
       "0  seems to have enclosure walls and temple accor...  \n",
       "1  unfinished, no limestone casing, \"probably iny...  \n",
       "2       debate over whether this is Pyramid of Nebka  \n",
       "3                              began as step pyramid  \n",
       "4                   base  = 144 according to Lehner   "
      ]
     },
     "execution_count": 5,
     "metadata": {},
     "output_type": "execute_result"
    }
   ],
   "source": [
    "# View the head\n",
    "df.head()"
   ]
  },
  {
   "cell_type": "code",
   "execution_count": 6,
   "id": "b005ed68-1013-40ca-a300-379340331f57",
   "metadata": {},
   "outputs": [
    {
     "name": "stdout",
     "output_type": "stream",
     "text": [
      "<class 'pandas.core.frame.DataFrame'>\n",
      "RangeIndex: 86 entries, 0 to 85\n",
      "Data columns (total 20 columns):\n",
      " #   Column                         Non-Null Count  Dtype  \n",
      "---  ------                         --------------  -----  \n",
      " 0   Ruler                          68 non-null     object \n",
      " 1   Gender                         68 non-null     object \n",
      " 2   Start of Reign                 22 non-null     float64\n",
      " 3   End of Reign                   22 non-null     float64\n",
      " 4   Length of Reign (Years)        23 non-null     object \n",
      " 5   Period                         67 non-null     object \n",
      " 6   Dynasty                        68 non-null     object \n",
      " 7   Title                          68 non-null     object \n",
      " 8   Pyramid Texts                  11 non-null     object \n",
      " 9   Site/Location                  55 non-null     object \n",
      " 10  Orientation                    27 non-null     object \n",
      " 11  Exterior Material              43 non-null     object \n",
      " 12  State of Completion            7 non-null      object \n",
      " 13  Superstructure Type            67 non-null     object \n",
      " 14  Height (m)                     47 non-null     object \n",
      " 15  Length (m)                     43 non-null     object \n",
      " 16  Width (m)                      43 non-null     object \n",
      " 17  Slope (degrees)                35 non-null     object \n",
      " 18  Enclosure Wall Dimensions (m)  8 non-null      object \n",
      " 19  Notes                          30 non-null     object \n",
      "dtypes: float64(2), object(18)\n",
      "memory usage: 13.6+ KB\n"
     ]
    }
   ],
   "source": [
    "# Get a higher-level view of the datase\n",
    "\n",
    "df.info()"
   ]
  },
  {
   "cell_type": "markdown",
   "id": "0ebf1a9b-18c1-41ba-b671-eba06fb3b9d1",
   "metadata": {},
   "source": [
    "## Removing leading and trailing whitespace in all columns with string elements"
   ]
  },
  {
   "cell_type": "code",
   "execution_count": 5,
   "id": "3d23d4c3-f2bd-4fe8-ba8a-e7f749f2ec54",
   "metadata": {},
   "outputs": [
    {
     "data": {
      "text/plain": [
       "Exterior Material\n",
       "Stone        23\n",
       "Stone        11\n",
       "Limestone     1\n",
       "Mudbrick      1\n",
       "Name: count, dtype: int64"
      ]
     },
     "execution_count": 5,
     "metadata": {},
     "output_type": "execute_result"
    }
   ],
   "source": [
    "# Show a column with leading/trailing whitespace\n",
    "df[\"Exterior Material\"].value_counts()"
   ]
  },
  {
   "cell_type": "code",
   "execution_count": 6,
   "id": "b8cfcf1d-9278-4773-8369-d06642ac4dad",
   "metadata": {},
   "outputs": [],
   "source": [
    "# Remove leading/trailing whitespace from the elements of all columns with string values\n",
    "df = df.map(lambda x: x.strip() if isinstance(x, str) else x)"
   ]
  },
  {
   "cell_type": "code",
   "execution_count": 7,
   "id": "fad9d7a2-de96-443b-876e-df26c14f8b6f",
   "metadata": {},
   "outputs": [
    {
     "data": {
      "text/plain": [
       "Exterior Material\n",
       "Stone        34\n",
       "Limestone     1\n",
       "Mudbrick      1\n",
       "Name: count, dtype: int64"
      ]
     },
     "execution_count": 7,
     "metadata": {},
     "output_type": "execute_result"
    }
   ],
   "source": [
    "# Show that the function applied to all columns, including the previously observed column\n",
    "df[\"Exterior Material\"].value_counts()"
   ]
  },
  {
   "cell_type": "markdown",
   "id": "da9a550d-27db-4208-88ae-b4214cd5c9ce",
   "metadata": {},
   "source": [
    "## Normalization"
   ]
  },
  {
   "cell_type": "code",
   "execution_count": 15,
   "id": "04d74753-6ad1-4b29-80dd-0dfb8d4f1e00",
   "metadata": {},
   "outputs": [
    {
     "data": {
      "text/plain": [
       "array(['N-S', 'E-W', nan], dtype=object)"
      ]
     },
     "execution_count": 15,
     "metadata": {},
     "output_type": "execute_result"
    }
   ],
   "source": [
    "# View the values of the column\n",
    "df[\"Orientation\"].unique()"
   ]
  },
  {
   "cell_type": "markdown",
   "id": "8be2dbd8-69c2-48ca-826b-c20c05df35a8",
   "metadata": {
    "scrolled": true
   },
   "source": [
    "## Exporting the dataset"
   ]
  },
  {
   "cell_type": "code",
   "execution_count": 9,
   "id": "409cffe8-dbd7-457d-952b-1daf17bc17e2",
   "metadata": {},
   "outputs": [],
   "source": [
    "# Export dataset to json\n",
    "\n",
    "#df.to_json(\"incomplete_pyramid_data.json\")"
   ]
  }
 ],
 "metadata": {
  "kernelspec": {
   "display_name": "Python 3 (ipykernel)",
   "language": "python",
   "name": "python3"
  },
  "language_info": {
   "codemirror_mode": {
    "name": "ipython",
    "version": 3
   },
   "file_extension": ".py",
   "mimetype": "text/x-python",
   "name": "python",
   "nbconvert_exporter": "python",
   "pygments_lexer": "ipython3",
   "version": "3.9.6"
  }
 },
 "nbformat": 4,
 "nbformat_minor": 5
}
